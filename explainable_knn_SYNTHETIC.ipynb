{
 "cells": [
  {
   "cell_type": "markdown",
   "metadata": {},
   "source": [
    "## Synthetic kNN\n",
    "This Notebook applies the k nearest neighbor to the synthetic data set"
   ]
  },
  {
   "cell_type": "code",
   "execution_count": 1,
   "metadata": {},
   "outputs": [],
   "source": [
    "import pandas as pd\n",
    "import numpy as np\n",
    "import matplotlib.pyplot as plt\n",
    "import seaborn as sns\n",
    "from sklearn import metrics\n",
    "from sklearn.preprocessing import MinMaxScaler\n",
    "from scipy.io import loadmat\n",
    "from sklearn.neighbors import NearestNeighbors\n",
    "import h5py\n",
    "from scipy.io.arff import loadarff \n",
    "from utils.utils_knn import *\n",
    "from sklearn.datasets import load_breast_cancer\n",
    "import pickle\n",
    "\n",
    "sns.set_style('darkgrid')\n",
    "\n",
    "SEED = 42\n",
    "\n",
    "np.random.seed(SEED)\n",
    "sns.set()"
   ]
  },
  {
   "cell_type": "markdown",
   "metadata": {},
   "source": [
    "### Load Data"
   ]
  },
  {
   "cell_type": "code",
   "execution_count": 2,
   "metadata": {},
   "outputs": [
    {
     "name": "stdout",
     "output_type": "stream",
     "text": [
      "<class 'pandas.core.frame.DataFrame'>\n",
      "Int64Index: 2000 entries, 0 to 1999\n",
      "Data columns (total 6 columns):\n",
      "f0    2000 non-null float64\n",
      "f1    2000 non-null float64\n",
      "f2    2000 non-null float64\n",
      "f3    2000 non-null float64\n",
      "f4    2000 non-null float64\n",
      "f5    2000 non-null float64\n",
      "dtypes: float64(6)\n",
      "memory usage: 109.4 KB\n"
     ]
    }
   ],
   "source": [
    "df = pd.read_csv(\"data/synthetic_data_6d.csv\", index_col=0)\n",
    "df.info()"
   ]
  },
  {
   "cell_type": "code",
   "execution_count": 3,
   "metadata": {},
   "outputs": [
    {
     "data": {
      "text/plain": [
       "(2000, 6)"
      ]
     },
     "execution_count": 3,
     "metadata": {},
     "output_type": "execute_result"
    }
   ],
   "source": [
    "X = df.values\n",
    "\n",
    "X_scaled = scale_data(X)\n",
    "\n",
    "X.shape"
   ]
  },
  {
   "cell_type": "code",
   "execution_count": 4,
   "metadata": {},
   "outputs": [
    {
     "data": {
      "text/html": [
       "<div>\n",
       "<style scoped>\n",
       "    .dataframe tbody tr th:only-of-type {\n",
       "        vertical-align: middle;\n",
       "    }\n",
       "\n",
       "    .dataframe tbody tr th {\n",
       "        vertical-align: top;\n",
       "    }\n",
       "\n",
       "    .dataframe thead th {\n",
       "        text-align: right;\n",
       "    }\n",
       "</style>\n",
       "<table border=\"1\" class=\"dataframe\">\n",
       "  <thead>\n",
       "    <tr style=\"text-align: right;\">\n",
       "      <th></th>\n",
       "      <th>f0</th>\n",
       "      <th>f1</th>\n",
       "      <th>f2</th>\n",
       "      <th>f3</th>\n",
       "      <th>f4</th>\n",
       "      <th>f5</th>\n",
       "      <th>score</th>\n",
       "    </tr>\n",
       "  </thead>\n",
       "  <tbody>\n",
       "    <tr>\n",
       "      <th>1001</th>\n",
       "      <td>3.00000</td>\n",
       "      <td>11.000000</td>\n",
       "      <td>13.647764</td>\n",
       "      <td>13.292576</td>\n",
       "      <td>12.101727</td>\n",
       "      <td>13.604768</td>\n",
       "      <td>0.381091</td>\n",
       "    </tr>\n",
       "    <tr>\n",
       "      <th>0</th>\n",
       "      <td>5.00000</td>\n",
       "      <td>5.000000</td>\n",
       "      <td>-1.264096</td>\n",
       "      <td>-2.222573</td>\n",
       "      <td>-1.009932</td>\n",
       "      <td>-1.759441</td>\n",
       "      <td>0.354455</td>\n",
       "    </tr>\n",
       "    <tr>\n",
       "      <th>1002</th>\n",
       "      <td>12.00000</td>\n",
       "      <td>6.000000</td>\n",
       "      <td>12.878718</td>\n",
       "      <td>11.445100</td>\n",
       "      <td>13.675763</td>\n",
       "      <td>11.066313</td>\n",
       "      <td>0.220302</td>\n",
       "    </tr>\n",
       "    <tr>\n",
       "      <th>1</th>\n",
       "      <td>3.00000</td>\n",
       "      <td>-1.054384</td>\n",
       "      <td>-0.972645</td>\n",
       "      <td>-0.991855</td>\n",
       "      <td>-0.881214</td>\n",
       "      <td>-1.067916</td>\n",
       "      <td>0.158102</td>\n",
       "    </tr>\n",
       "    <tr>\n",
       "      <th>1294</th>\n",
       "      <td>11.63343</td>\n",
       "      <td>15.157460</td>\n",
       "      <td>12.964324</td>\n",
       "      <td>11.588559</td>\n",
       "      <td>14.720199</td>\n",
       "      <td>12.633918</td>\n",
       "      <td>0.132220</td>\n",
       "    </tr>\n",
       "  </tbody>\n",
       "</table>\n",
       "</div>"
      ],
      "text/plain": [
       "            f0         f1         f2         f3         f4         f5  \\\n",
       "1001   3.00000  11.000000  13.647764  13.292576  12.101727  13.604768   \n",
       "0      5.00000   5.000000  -1.264096  -2.222573  -1.009932  -1.759441   \n",
       "1002  12.00000   6.000000  12.878718  11.445100  13.675763  11.066313   \n",
       "1      3.00000  -1.054384  -0.972645  -0.991855  -0.881214  -1.067916   \n",
       "1294  11.63343  15.157460  12.964324  11.588559  14.720199  12.633918   \n",
       "\n",
       "         score  \n",
       "1001  0.381091  \n",
       "0     0.354455  \n",
       "1002  0.220302  \n",
       "1     0.158102  \n",
       "1294  0.132220  "
      ]
     },
     "execution_count": 4,
     "metadata": {},
     "output_type": "execute_result"
    }
   ],
   "source": [
    "N_NEIGHBORS = 10\n",
    "ALGORITHM = \"brute\"\n",
    "\n",
    "scores, neigh = fit_predict_knn(X_scaled, N_NEIGHBORS, ALGORITHM)\n",
    "\n",
    "scored_df = pd.DataFrame(X)\n",
    "scored_df.columns = df.columns\n",
    "scored_df.index = df.index\n",
    "scored_df[\"score\"] = scores\n",
    "\n",
    "sorted_df = scored_df.sort_values(by=\"score\", ascending=False)\n",
    "sorted_df.head(5)"
   ]
  },
  {
   "cell_type": "code",
   "execution_count": 5,
   "metadata": {},
   "outputs": [],
   "source": [
    "#save neighbors\n",
    "with open('results/neighbors_synthetic.pkl', 'wb') as f:\n",
    "    pickle.dump(neigh, f)"
   ]
  },
  {
   "cell_type": "markdown",
   "metadata": {},
   "source": [
    "### Calculate distances per dimension"
   ]
  },
  {
   "cell_type": "code",
   "execution_count": 6,
   "metadata": {},
   "outputs": [
    {
     "data": {
      "text/html": [
       "<div>\n",
       "<style scoped>\n",
       "    .dataframe tbody tr th:only-of-type {\n",
       "        vertical-align: middle;\n",
       "    }\n",
       "\n",
       "    .dataframe tbody tr th {\n",
       "        vertical-align: top;\n",
       "    }\n",
       "\n",
       "    .dataframe thead th {\n",
       "        text-align: right;\n",
       "    }\n",
       "</style>\n",
       "<table border=\"1\" class=\"dataframe\">\n",
       "  <thead>\n",
       "    <tr style=\"text-align: right;\">\n",
       "      <th></th>\n",
       "      <th>f0</th>\n",
       "      <th>f1</th>\n",
       "      <th>f2</th>\n",
       "      <th>f3</th>\n",
       "      <th>f4</th>\n",
       "      <th>f5</th>\n",
       "    </tr>\n",
       "  </thead>\n",
       "  <tbody>\n",
       "    <tr>\n",
       "      <th>1001</th>\n",
       "      <td>0.371815</td>\n",
       "      <td>0.032679</td>\n",
       "      <td>0.096902</td>\n",
       "      <td>0.063416</td>\n",
       "      <td>0.019881</td>\n",
       "      <td>0.105501</td>\n",
       "    </tr>\n",
       "    <tr>\n",
       "      <th>0</th>\n",
       "      <td>0.217656</td>\n",
       "      <td>0.242812</td>\n",
       "      <td>0.080429</td>\n",
       "      <td>0.128324</td>\n",
       "      <td>0.074188</td>\n",
       "      <td>0.103048</td>\n",
       "    </tr>\n",
       "    <tr>\n",
       "      <th>1002</th>\n",
       "      <td>0.019596</td>\n",
       "      <td>0.198834</td>\n",
       "      <td>0.033031</td>\n",
       "      <td>0.003753</td>\n",
       "      <td>0.093025</td>\n",
       "      <td>0.009625</td>\n",
       "    </tr>\n",
       "    <tr>\n",
       "      <th>1</th>\n",
       "      <td>0.145623</td>\n",
       "      <td>0.041347</td>\n",
       "      <td>0.028732</td>\n",
       "      <td>0.034930</td>\n",
       "      <td>0.036966</td>\n",
       "      <td>0.044114</td>\n",
       "    </tr>\n",
       "    <tr>\n",
       "      <th>1294</th>\n",
       "      <td>0.042181</td>\n",
       "      <td>0.083778</td>\n",
       "      <td>0.002917</td>\n",
       "      <td>0.041403</td>\n",
       "      <td>0.041359</td>\n",
       "      <td>0.000248</td>\n",
       "    </tr>\n",
       "  </tbody>\n",
       "</table>\n",
       "</div>"
      ],
      "text/plain": [
       "            f0        f1        f2        f3        f4        f5\n",
       "1001  0.371815  0.032679  0.096902  0.063416  0.019881  0.105501\n",
       "0     0.217656  0.242812  0.080429  0.128324  0.074188  0.103048\n",
       "1002  0.019596  0.198834  0.033031  0.003753  0.093025  0.009625\n",
       "1     0.145623  0.041347  0.028732  0.034930  0.036966  0.044114\n",
       "1294  0.042181  0.083778  0.002917  0.041403  0.041359  0.000248"
      ]
     },
     "execution_count": 6,
     "metadata": {},
     "output_type": "execute_result"
    }
   ],
   "source": [
    "dist = dist_per_dimension(X_scaled, neigh, sorted_df.index.values)\n",
    "distances = pd.DataFrame(dist, columns=df.columns)\n",
    "distances.index = sorted_df.index\n",
    "distances.head(2).sum()\n",
    "distances.head(5)"
   ]
  },
  {
   "cell_type": "markdown",
   "metadata": {},
   "source": [
    "### Store Results"
   ]
  },
  {
   "cell_type": "code",
   "execution_count": 15,
   "metadata": {},
   "outputs": [],
   "source": [
    "sorted_df.to_csv(\"results/knn_synthetic_scored.csv\")\n",
    "distances.to_csv(\"results/knn_synthetic_distances.csv\")"
   ]
  },
  {
   "cell_type": "markdown",
   "metadata": {},
   "source": [
    "### Examine Results"
   ]
  },
  {
   "cell_type": "code",
   "execution_count": 12,
   "metadata": {},
   "outputs": [
    {
     "data": {
      "text/plain": [
       "<matplotlib.axes._subplots.AxesSubplot at 0x1cba63dfef0>"
      ]
     },
     "execution_count": 12,
     "metadata": {},
     "output_type": "execute_result"
    },
    {
     "data": {
      "image/png": "[encoded data removed]",
      "text/plain": [
       "<Figure size 720x360 with 2 Axes>"
      ]
     },
     "metadata": {
      "needs_background": "light"
     },
     "output_type": "display_data"
    }
   ],
   "source": [
    "plt.figure(figsize=[10, 5])\n",
    "sns.heatmap(distances.head(4).T)"
   ]
  },
  {
   "cell_type": "code",
   "execution_count": 13,
   "metadata": {},
   "outputs": [
    {
     "data": {
      "text/plain": [
       "<BarContainer object of 6 artists>"
      ]
     },
     "execution_count": 13,
     "metadata": {},
     "output_type": "execute_result"
    },
    {
     "data": {
      "image/png": "[encoded data removed]",
      "text/plain": [
       "<Figure size 1440x360 with 1 Axes>"
      ]
     },
     "metadata": {
      "needs_background": "light"
     },
     "output_type": "display_data"
    }
   ],
   "source": [
    "# sum up the feature ranking for the 4 outliers over all 6 dimensions\n",
    "TOP_COLUMNS = 10\n",
    "plt.figure(figsize=[20, 5])\n",
    "dist_sum = distances.head(4).sum().sort_values(ascending=False)[:TOP_COLUMNS]\n",
    "plt.bar(dist_sum.index, dist_sum.values)"
   ]
  },
  {
   "cell_type": "code",
   "execution_count": null,
   "metadata": {},
   "outputs": [],
   "source": []
  }
 ],
 "metadata": {
  "kernelspec": {
   "display_name": "Python 3",
   "language": "python",
   "name": "python3"
  },
  "language_info": {
   "codemirror_mode": {
    "name": "ipython",
    "version": 3
   },
   "file_extension": ".py",
   "mimetype": "text/x-python",
   "name": "python",
   "nbconvert_exporter": "python",
   "pygments_lexer": "ipython3",
   "version": "3.7.3"
  }
 },
 "nbformat": 4,
 "nbformat_minor": 4
}
