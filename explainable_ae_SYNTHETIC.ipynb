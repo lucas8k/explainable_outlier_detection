{
 "cells": [
  {
   "cell_type": "markdown",
   "metadata": {},
   "source": [
    "## Synthetic AE\n",
    "This Notebook applies the auto encoder to the synthetic data set"
   ]
  },
  {
   "cell_type": "code",
   "execution_count": 1,
   "metadata": {},
   "outputs": [],
   "source": [
    "import pandas as pd\n",
    "import numpy as np\n",
    "import matplotlib.pyplot as plt\n",
    "import seaborn as sns\n",
    "from sklearn import metrics\n",
    "from scipy.io import loadmat\n",
    "import h5py\n",
    "from scipy.io.arff import loadarff \n",
    "from utils.utils_gmm import *\n",
    "from sklearn.datasets import load_breast_cancer\n",
    "import os\n",
    "import torch \n",
    "import torch.nn as nn\n",
    "import torch.optim as optim\n",
    "import matplotlib.pyplot as plt\n",
    "import torch.nn.functional as F\n",
    "from torch.utils.data import TensorDataset, DataLoader\n",
    "from sklearn.preprocessing import MinMaxScaler\n",
    "sns.set_style('darkgrid')\n",
    "\n",
    "SEED = 42\n",
    "\n",
    "torch.manual_seed(SEED)\n",
    "np.random.seed(SEED)\n",
    "sns.set()"
   ]
  },
  {
   "cell_type": "markdown",
   "metadata": {},
   "source": [
    "### Load Data"
   ]
  },
  {
   "cell_type": "code",
   "execution_count": 2,
   "metadata": {},
   "outputs": [
    {
     "name": "stdout",
     "output_type": "stream",
     "text": [
      "<class 'pandas.core.frame.DataFrame'>\n",
      "Int64Index: 2000 entries, 0 to 1999\n",
      "Data columns (total 6 columns):\n",
      "f0    2000 non-null float64\n",
      "f1    2000 non-null float64\n",
      "f2    2000 non-null float64\n",
      "f3    2000 non-null float64\n",
      "f4    2000 non-null float64\n",
      "f5    2000 non-null float64\n",
      "dtypes: float64(6)\n",
      "memory usage: 109.4 KB\n"
     ]
    }
   ],
   "source": [
    "df = pd.read_csv(\"data/synthetic_data_6d.csv\", index_col=0)\n",
    "df.info()"
   ]
  },
  {
   "cell_type": "code",
   "execution_count": 3,
   "metadata": {},
   "outputs": [
    {
     "data": {
      "text/plain": [
       "(2000, 6)"
      ]
     },
     "execution_count": 3,
     "metadata": {},
     "output_type": "execute_result"
    }
   ],
   "source": [
    "X = df.values\n",
    "\n",
    "scaler = MinMaxScaler()\n",
    "X_scaled = scaler.fit_transform(X)\n",
    "\n",
    "X.shape"
   ]
  },
  {
   "cell_type": "code",
   "execution_count": 4,
   "metadata": {},
   "outputs": [],
   "source": [
    "NUM_EPOCHS = 50\n",
    "LEARNING_RATE = 1e-3\n",
    "BATCH_SIZE = 5\n"
   ]
  },
  {
   "cell_type": "code",
   "execution_count": 5,
   "metadata": {},
   "outputs": [],
   "source": [
    "def get_device():\n",
    "    if torch.cuda.is_available():\n",
    "        device = 'cuda:0'\n",
    "    else:\n",
    "        device = 'cpu'\n",
    "    return device"
   ]
  },
  {
   "cell_type": "code",
   "execution_count": 6,
   "metadata": {},
   "outputs": [
    {
     "name": "stdout",
     "output_type": "stream",
     "text": [
      "Autoencoder(\n",
      "  (enc1): Linear(in_features=6, out_features=4, bias=True)\n",
      "  (enc2): Linear(in_features=4, out_features=2, bias=True)\n",
      "  (dec1): Linear(in_features=2, out_features=4, bias=True)\n",
      "  (dec2): Linear(in_features=4, out_features=6, bias=True)\n",
      ")\n"
     ]
    }
   ],
   "source": [
    "class Autoencoder(nn.Module):\n",
    "    def __init__(self):\n",
    "        super(Autoencoder, self).__init__()\n",
    "        # encoder\n",
    "        self.enc1 = nn.Linear(in_features=6, out_features=4)\n",
    "        self.enc2 = nn.Linear(in_features=4, out_features=2)\n",
    "        # decoder \n",
    "        self.dec1 = nn.Linear(in_features=2, out_features=4)\n",
    "        self.dec2 = nn.Linear(in_features=4, out_features=6)\n",
    "    def forward(self, x):\n",
    "        x = torch.tanh(self.enc1(x))\n",
    "        x = torch.tanh(self.enc2(x))\n",
    "        x = torch.tanh(self.dec1(x))\n",
    "        x = torch.sigmoid(self.dec2(x))\n",
    "        return x\n",
    "net = Autoencoder()\n",
    "print(net)\n",
    "criterion = nn.MSELoss()\n",
    "optimizer = optim.Adam(net.parameters(), lr=LEARNING_RATE)"
   ]
  },
  {
   "cell_type": "code",
   "execution_count": 7,
   "metadata": {},
   "outputs": [
    {
     "data": {
      "text/plain": [
       "<torch.utils.data.dataloader.DataLoader at 0x27037ac40b8>"
      ]
     },
     "execution_count": 7,
     "metadata": {},
     "output_type": "execute_result"
    }
   ],
   "source": [
    "tensor_x = torch.Tensor(X_scaled) # transform to torch tensor\n",
    "\n",
    "dataset = TensorDataset(tensor_x)\n",
    "trainloader = DataLoader(dataset, batch_size=BATCH_SIZE, shuffle=True)\n",
    "trainloader"
   ]
  },
  {
   "cell_type": "code",
   "execution_count": 8,
   "metadata": {},
   "outputs": [],
   "source": [
    "from tqdm.notebook import tqdm\n",
    "\n",
    "def train(net, trainloader, NUM_EPOCHS):\n",
    "    train_loss = []\n",
    "    pbar = tqdm(range(NUM_EPOCHS))\n",
    "    for epoch in pbar:\n",
    "        running_loss = 0.0\n",
    "        for data in trainloader:\n",
    "            batch = data[0]\n",
    "            batch = batch.to(device)\n",
    "            batch = batch.view(batch.size(0), -1)\n",
    "            optimizer.zero_grad()\n",
    "            outputs = net(batch)\n",
    "            loss = criterion(outputs, batch)\n",
    "            loss.backward()\n",
    "            optimizer.step()\n",
    "            running_loss += loss.item()\n",
    "            pbar.set_postfix({'loss': loss.item()})\n",
    "        \n",
    "        loss = running_loss / len(trainloader)\n",
    "        train_loss.append(loss)\n",
    "        #print('Epoch {} of {}, Train Loss: {:.10f}'.format(\n",
    "         #   epoch+1, NUM_EPOCHS, loss))\n",
    "    return train_loss"
   ]
  },
  {
   "cell_type": "code",
   "execution_count": 9,
   "metadata": {},
   "outputs": [
    {
     "data": {
      "application/vnd.jupyter.widget-view+json": {
       "model_id": "2f77b46b2a1f4f479ff69cbd6ff78ae3",
       "version_major": 2,
       "version_minor": 0
      },
      "text/plain": [
       "  0%|          | 0/50 [00:00<?, ?it/s]"
      ]
     },
     "metadata": {},
     "output_type": "display_data"
    },
    {
     "data": {
      "text/plain": [
       "Text(0, 0.5, 'Loss')"
      ]
     },
     "execution_count": 9,
     "metadata": {},
     "output_type": "execute_result"
    },
    {
     "data": {
      "image/png": "[encoded data removed]",
      "text/plain": [
       "<Figure size 432x288 with 1 Axes>"
      ]
     },
     "metadata": {
      "needs_background": "light"
     },
     "output_type": "display_data"
    }
   ],
   "source": [
    "# get the computation device\n",
    "device = get_device()\n",
    "# load the neural network onto the device\n",
    "net.to(device)\n",
    "\n",
    "# train the network\n",
    "net.train()\n",
    "train_loss = train(net, trainloader, NUM_EPOCHS)\n",
    "plt.figure()\n",
    "plt.plot(train_loss)\n",
    "plt.title('Train Loss')\n",
    "plt.xlabel('Epochs')\n",
    "plt.ylabel('Loss')"
   ]
  },
  {
   "cell_type": "code",
   "execution_count": 10,
   "metadata": {},
   "outputs": [
    {
     "data": {
      "text/html": [
       "<div>\n",
       "<style scoped>\n",
       "    .dataframe tbody tr th:only-of-type {\n",
       "        vertical-align: middle;\n",
       "    }\n",
       "\n",
       "    .dataframe tbody tr th {\n",
       "        vertical-align: top;\n",
       "    }\n",
       "\n",
       "    .dataframe thead th {\n",
       "        text-align: right;\n",
       "    }\n",
       "</style>\n",
       "<table border=\"1\" class=\"dataframe\">\n",
       "  <thead>\n",
       "    <tr style=\"text-align: right;\">\n",
       "      <th></th>\n",
       "      <th>f0</th>\n",
       "      <th>f1</th>\n",
       "      <th>f2</th>\n",
       "      <th>f3</th>\n",
       "      <th>f4</th>\n",
       "      <th>f5</th>\n",
       "      <th>score</th>\n",
       "    </tr>\n",
       "  </thead>\n",
       "  <tbody>\n",
       "    <tr>\n",
       "      <th>1001</th>\n",
       "      <td>3.000000</td>\n",
       "      <td>11.000000</td>\n",
       "      <td>13.647764</td>\n",
       "      <td>13.292576</td>\n",
       "      <td>12.101727</td>\n",
       "      <td>13.604768</td>\n",
       "      <td>0.044234</td>\n",
       "    </tr>\n",
       "    <tr>\n",
       "      <th>0</th>\n",
       "      <td>5.000000</td>\n",
       "      <td>5.000000</td>\n",
       "      <td>-1.264096</td>\n",
       "      <td>-2.222573</td>\n",
       "      <td>-1.009932</td>\n",
       "      <td>-1.759441</td>\n",
       "      <td>0.030668</td>\n",
       "    </tr>\n",
       "    <tr>\n",
       "      <th>1002</th>\n",
       "      <td>12.000000</td>\n",
       "      <td>6.000000</td>\n",
       "      <td>12.878718</td>\n",
       "      <td>11.445100</td>\n",
       "      <td>13.675763</td>\n",
       "      <td>11.066313</td>\n",
       "      <td>0.018434</td>\n",
       "    </tr>\n",
       "    <tr>\n",
       "      <th>1</th>\n",
       "      <td>3.000000</td>\n",
       "      <td>-1.054384</td>\n",
       "      <td>-0.972645</td>\n",
       "      <td>-0.991855</td>\n",
       "      <td>-0.881214</td>\n",
       "      <td>-1.067916</td>\n",
       "      <td>0.006987</td>\n",
       "    </tr>\n",
       "    <tr>\n",
       "      <th>1880</th>\n",
       "      <td>12.654576</td>\n",
       "      <td>9.889214</td>\n",
       "      <td>13.976995</td>\n",
       "      <td>14.422804</td>\n",
       "      <td>12.475374</td>\n",
       "      <td>12.141034</td>\n",
       "      <td>0.006596</td>\n",
       "    </tr>\n",
       "    <tr>\n",
       "      <th>1650</th>\n",
       "      <td>14.473022</td>\n",
       "      <td>14.372187</td>\n",
       "      <td>10.952474</td>\n",
       "      <td>12.944849</td>\n",
       "      <td>11.113020</td>\n",
       "      <td>11.757795</td>\n",
       "      <td>0.006576</td>\n",
       "    </tr>\n",
       "    <tr>\n",
       "      <th>1532</th>\n",
       "      <td>12.091579</td>\n",
       "      <td>12.990018</td>\n",
       "      <td>10.033628</td>\n",
       "      <td>12.821709</td>\n",
       "      <td>10.507418</td>\n",
       "      <td>9.252602</td>\n",
       "      <td>0.006534</td>\n",
       "    </tr>\n",
       "    <tr>\n",
       "      <th>1920</th>\n",
       "      <td>12.762610</td>\n",
       "      <td>13.767078</td>\n",
       "      <td>12.347312</td>\n",
       "      <td>12.741481</td>\n",
       "      <td>9.277038</td>\n",
       "      <td>12.352148</td>\n",
       "      <td>0.006303</td>\n",
       "    </tr>\n",
       "    <tr>\n",
       "      <th>1947</th>\n",
       "      <td>13.770996</td>\n",
       "      <td>11.683276</td>\n",
       "      <td>11.468835</td>\n",
       "      <td>9.244545</td>\n",
       "      <td>11.131894</td>\n",
       "      <td>12.706117</td>\n",
       "      <td>0.006103</td>\n",
       "    </tr>\n",
       "    <tr>\n",
       "      <th>1294</th>\n",
       "      <td>11.633430</td>\n",
       "      <td>15.157460</td>\n",
       "      <td>12.964324</td>\n",
       "      <td>11.588559</td>\n",
       "      <td>14.720199</td>\n",
       "      <td>12.633918</td>\n",
       "      <td>0.006090</td>\n",
       "    </tr>\n",
       "  </tbody>\n",
       "</table>\n",
       "</div>"
      ],
      "text/plain": [
       "             f0         f1         f2         f3         f4         f5  \\\n",
       "1001   3.000000  11.000000  13.647764  13.292576  12.101727  13.604768   \n",
       "0      5.000000   5.000000  -1.264096  -2.222573  -1.009932  -1.759441   \n",
       "1002  12.000000   6.000000  12.878718  11.445100  13.675763  11.066313   \n",
       "1      3.000000  -1.054384  -0.972645  -0.991855  -0.881214  -1.067916   \n",
       "1880  12.654576   9.889214  13.976995  14.422804  12.475374  12.141034   \n",
       "1650  14.473022  14.372187  10.952474  12.944849  11.113020  11.757795   \n",
       "1532  12.091579  12.990018  10.033628  12.821709  10.507418   9.252602   \n",
       "1920  12.762610  13.767078  12.347312  12.741481   9.277038  12.352148   \n",
       "1947  13.770996  11.683276  11.468835   9.244545  11.131894  12.706117   \n",
       "1294  11.633430  15.157460  12.964324  11.588559  14.720199  12.633918   \n",
       "\n",
       "         score  \n",
       "1001  0.044234  \n",
       "0     0.030668  \n",
       "1002  0.018434  \n",
       "1     0.006987  \n",
       "1880  0.006596  \n",
       "1650  0.006576  \n",
       "1532  0.006534  \n",
       "1920  0.006303  \n",
       "1947  0.006103  \n",
       "1294  0.006090  "
      ]
     },
     "execution_count": 10,
     "metadata": {},
     "output_type": "execute_result"
    }
   ],
   "source": [
    "net.eval()\n",
    "\n",
    "tensor_x_test = torch.Tensor(X_scaled) # transform to torch tensor\n",
    "\n",
    "reconstructed = net(tensor_x_test).cpu().detach().numpy()\n",
    "diff = ((reconstructed - X_scaled)**2)\n",
    "mse = ((reconstructed - X_scaled)**2).mean(axis=1)\n",
    "\n",
    "scored_df = pd.DataFrame(X)\n",
    "scored_df.columns = df.columns\n",
    "scored_df.reset_index()\n",
    "scored_df[\"score\"] = mse\n",
    "\n",
    "sorted_df = scored_df.sort_values(by=\"score\", ascending=False)\n",
    "sorted_df.head(10)"
   ]
  },
  {
   "cell_type": "markdown",
   "metadata": {},
   "source": [
    "### Calculate distances per dimension"
   ]
  },
  {
   "cell_type": "code",
   "execution_count": 11,
   "metadata": {},
   "outputs": [
    {
     "data": {
      "text/html": [
       "<div>\n",
       "<style scoped>\n",
       "    .dataframe tbody tr th:only-of-type {\n",
       "        vertical-align: middle;\n",
       "    }\n",
       "\n",
       "    .dataframe tbody tr th {\n",
       "        vertical-align: top;\n",
       "    }\n",
       "\n",
       "    .dataframe thead th {\n",
       "        text-align: right;\n",
       "    }\n",
       "</style>\n",
       "<table border=\"1\" class=\"dataframe\">\n",
       "  <thead>\n",
       "    <tr style=\"text-align: right;\">\n",
       "      <th></th>\n",
       "      <th>f0</th>\n",
       "      <th>f1</th>\n",
       "      <th>f2</th>\n",
       "      <th>f3</th>\n",
       "      <th>f4</th>\n",
       "      <th>f5</th>\n",
       "    </tr>\n",
       "  </thead>\n",
       "  <tbody>\n",
       "    <tr>\n",
       "      <th>1001</th>\n",
       "      <td>0.204824</td>\n",
       "      <td>0.000009</td>\n",
       "      <td>0.021066</td>\n",
       "      <td>0.015361</td>\n",
       "      <td>0.003254</td>\n",
       "      <td>0.020889</td>\n",
       "    </tr>\n",
       "    <tr>\n",
       "      <th>0</th>\n",
       "      <td>0.059856</td>\n",
       "      <td>0.059412</td>\n",
       "      <td>0.010978</td>\n",
       "      <td>0.026898</td>\n",
       "      <td>0.008829</td>\n",
       "      <td>0.018036</td>\n",
       "    </tr>\n",
       "    <tr>\n",
       "      <th>1002</th>\n",
       "      <td>0.002121</td>\n",
       "      <td>0.079297</td>\n",
       "      <td>0.009337</td>\n",
       "      <td>0.000233</td>\n",
       "      <td>0.019605</td>\n",
       "      <td>0.000012</td>\n",
       "    </tr>\n",
       "    <tr>\n",
       "      <th>1</th>\n",
       "      <td>0.035483</td>\n",
       "      <td>0.001460</td>\n",
       "      <td>0.001149</td>\n",
       "      <td>0.001278</td>\n",
       "      <td>0.001072</td>\n",
       "      <td>0.001478</td>\n",
       "    </tr>\n",
       "    <tr>\n",
       "      <th>1880</th>\n",
       "      <td>0.000010</td>\n",
       "      <td>0.021067</td>\n",
       "      <td>0.006285</td>\n",
       "      <td>0.011717</td>\n",
       "      <td>0.000031</td>\n",
       "      <td>0.000463</td>\n",
       "    </tr>\n",
       "  </tbody>\n",
       "</table>\n",
       "</div>"
      ],
      "text/plain": [
       "            f0        f1        f2        f3        f4        f5\n",
       "1001  0.204824  0.000009  0.021066  0.015361  0.003254  0.020889\n",
       "0     0.059856  0.059412  0.010978  0.026898  0.008829  0.018036\n",
       "1002  0.002121  0.079297  0.009337  0.000233  0.019605  0.000012\n",
       "1     0.035483  0.001460  0.001149  0.001278  0.001072  0.001478\n",
       "1880  0.000010  0.021067  0.006285  0.011717  0.000031  0.000463"
      ]
     },
     "execution_count": 11,
     "metadata": {},
     "output_type": "execute_result"
    }
   ],
   "source": [
    "distances = pd.DataFrame(diff[sorted_df.index], columns=df.columns)\n",
    "distances.index = sorted_df.index\n",
    "distances.head(3).sum()\n",
    "distances.head(5)"
   ]
  },
  {
   "cell_type": "markdown",
   "metadata": {},
   "source": [
    "### Store Results"
   ]
  },
  {
   "cell_type": "code",
   "execution_count": 19,
   "metadata": {},
   "outputs": [],
   "source": [
    "sorted_df.to_csv(\"results/ae_synthetic_scored.csv\")\n",
    "distances.to_csv(\"results/ae_synthetic_distances.csv\")"
   ]
  },
  {
   "cell_type": "markdown",
   "metadata": {},
   "source": [
    "### Examine Results"
   ]
  },
  {
   "cell_type": "code",
   "execution_count": 15,
   "metadata": {},
   "outputs": [
    {
     "data": {
      "text/plain": [
       "<matplotlib.axes._subplots.AxesSubplot at 0x27038612630>"
      ]
     },
     "execution_count": 15,
     "metadata": {},
     "output_type": "execute_result"
    },
    {
     "data": {
      "image/png": "[encoded data removed]",
      "text/plain": [
       "<Figure size 720x360 with 2 Axes>"
      ]
     },
     "metadata": {
      "needs_background": "light"
     },
     "output_type": "display_data"
    }
   ],
   "source": [
    "plt.figure(figsize=[10, 5])\n",
    "sns.heatmap(distances.head(4).T)"
   ]
  },
  {
   "cell_type": "code",
   "execution_count": 16,
   "metadata": {},
   "outputs": [
    {
     "data": {
      "text/plain": [
       "<BarContainer object of 6 artists>"
      ]
     },
     "execution_count": 16,
     "metadata": {},
     "output_type": "execute_result"
    },
    {
     "data": {
      "image/png": "[encoded data removed]",
      "text/plain": [
       "<Figure size 1440x360 with 1 Axes>"
      ]
     },
     "metadata": {
      "needs_background": "light"
     },
     "output_type": "display_data"
    }
   ],
   "source": [
    "TOP_COLUMNS = 10\n",
    "plt.figure(figsize=[20, 5])\n",
    "dist_sum = distances.head(4).sum().sort_values(ascending=False)[:TOP_COLUMNS]\n",
    "plt.bar(dist_sum.index, dist_sum.values)"
   ]
  },
  {
   "cell_type": "code",
   "execution_count": null,
   "metadata": {},
   "outputs": [],
   "source": []
  }
 ],
 "metadata": {
  "kernelspec": {
   "display_name": "Python 3",
   "language": "python",
   "name": "python3"
  },
  "language_info": {
   "codemirror_mode": {
    "name": "ipython",
    "version": 3
   },
   "file_extension": ".py",
   "mimetype": "text/x-python",
   "name": "python",
   "nbconvert_exporter": "python",
   "pygments_lexer": "ipython3",
   "version": "3.7.3"
  }
 },
 "nbformat": 4,
 "nbformat_minor": 4
}
